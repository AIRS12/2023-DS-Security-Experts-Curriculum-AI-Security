{
 "cells": [
  {
   "cell_type": "markdown",
   "metadata": {
    "pycharm": {
     "name": "#%% md\n"
    }
   },
   "source": [
    "#### Original ref : https://tutorials.pytorch.kr/beginner/basics/tensorqs_tutorial.html"
   ]
  },
  {
   "cell_type": "code",
   "execution_count": 1,
   "metadata": {
    "pycharm": {
     "name": "#%%\n"
    }
   },
   "outputs": [],
   "source": [
    "%matplotlib inline"
   ]
  },
  {
   "cell_type": "markdown",
   "metadata": {
    "pycharm": {
     "name": "#%% md\n"
    }
   },
   "source": [
    "텐서(Tensor)\n",
    "==========================================================================\n",
    "\n",
    "텐서(tensor)는 배열(array)이나 행렬(matrix)과 매우 유사한 특수한 자료구조입니다.\n",
    "PyTorch에서는 텐서를 사용하여 모델의 입력(input)과 출력(output), 그리고 모델의 매개변수들을 부호화(encode)합니다.\n",
    "\n",
    "텐서는 GPU나 다른 하드웨어 가속기에서 실행할 수 있다는 점만 제외하면 `NumPy <https://numpy.org>`_ 의 ndarray와 유사합니다.\n",
    "실제로 텐서와 NumPy 배열(array)은 종종 동일한 내부(underly) 메모리를 공유할 수 있어 데이터를 복수할 필요가 없습니다. (`bridge-to-np-label` 참고)\n",
    "텐서는 또한 (`Autograd <autogradqs_tutorial.html>`__ 장에서 살펴볼) 자동 미분(automatic differentiation)에 최적화되어 있습니다.\n",
    "ndarray에 익숙하다면 Tensor API를 바로 사용할 수 있을 것입니다. 아니라면, 아래 내용을 함께 보시죠!\n"
   ]
  },
  {
   "cell_type": "code",
   "execution_count": 2,
   "metadata": {
    "pycharm": {
     "name": "#%%\n"
    }
   },
   "outputs": [],
   "source": [
    "import torch\n",
    "import numpy as np"
   ]
  },
  {
   "cell_type": "markdown",
   "metadata": {
    "pycharm": {
     "name": "#%% md\n"
    }
   },
   "source": [
    "**텐서(tensor) 초기화**\n",
    "\n",
    "텐서는 여러가지 방법으로 초기화할 수 있습니다. 다음 예를 살펴보세요:\n",
    "\n",
    "**데이터로부터 직접(directly) 생성하기**\n",
    "\n",
    "데이터로부터 직접 텐서를 생성할 수 있습니다. 데이터의 자료형(data type)은 자동으로 유추합니다.\n",
    "\n"
   ]
  },
  {
   "cell_type": "code",
   "execution_count": 3,
   "metadata": {
    "pycharm": {
     "name": "#%%\n"
    }
   },
   "outputs": [],
   "source": [
    "data = [[1, 2],[3, 4]]\n",
    "x_data = torch.tensor(data)"
   ]
  },
  {
   "cell_type": "markdown",
   "metadata": {
    "pycharm": {
     "name": "#%% md\n"
    }
   },
   "source": [
    "**NumPy 배열로부터 생성하기**\n",
    "\n",
    "텐서는 NumPy 배열로 생성할 수 있습니다. (그 반대도 가능합니다 - `bridge-to-np-label` 참고)\n",
    "\n"
   ]
  },
  {
   "cell_type": "code",
   "execution_count": 4,
   "metadata": {
    "pycharm": {
     "name": "#%%\n"
    }
   },
   "outputs": [],
   "source": [
    "np_array = np.array(data)\n",
    "x_np = torch.from_numpy(np_array)"
   ]
  },
  {
   "cell_type": "markdown",
   "metadata": {
    "pycharm": {
     "name": "#%% md\n"
    }
   },
   "source": [
    "**다른 텐서로부터 생성하기:**\n",
    "\n",
    "명시적으로 재정의(override)하지 않는다면, 인자로 주어진 텐서의 속성(모양(shape), 자료형(datatype))을 유지합니다.\n",
    "\n"
   ]
  },
  {
   "cell_type": "code",
   "execution_count": 5,
   "metadata": {
    "pycharm": {
     "name": "#%%\n"
    }
   },
   "outputs": [
    {
     "name": "stdout",
     "output_type": "stream",
     "text": [
      "Ones Tensor: \n",
      " tensor([[1, 1],\n",
      "        [1, 1]]) \n",
      "\n",
      "Random Tensor: \n",
      " tensor([[0.9032, 0.7482],\n",
      "        [0.8027, 0.8354]]) \n",
      "\n"
     ]
    }
   ],
   "source": [
    "x_ones = torch.ones_like(x_data) # x_data의 속성을 유지합니다.\n",
    "print(f\"Ones Tensor: \\n {x_ones} \\n\")\n",
    "\n",
    "x_rand = torch.rand_like(x_data, dtype=torch.float) # x_data의 속성을 덮어씁니다.\n",
    "print(f\"Random Tensor: \\n {x_rand} \\n\")"
   ]
  },
  {
   "cell_type": "markdown",
   "metadata": {
    "pycharm": {
     "name": "#%% md\n"
    }
   },
   "source": [
    "**무작위(random) 또는 상수(constant) 값을 사용하기:**\n",
    "\n",
    "``shape`` 은 텐서의 차원(dimension)을 나타내는 튜플(tuple)로, 아래 함수들에서는 출력 텐서의 차원을 결정합니다.\n",
    "\n"
   ]
  },
  {
   "cell_type": "code",
   "execution_count": 6,
   "metadata": {
    "pycharm": {
     "name": "#%%\n"
    }
   },
   "outputs": [
    {
     "name": "stdout",
     "output_type": "stream",
     "text": [
      "Random Tensor: \n",
      " tensor([[0.1488, 0.9217, 0.0460],\n",
      "        [0.9335, 0.8278, 0.1767]]) \n",
      "\n",
      "Ones Tensor: \n",
      " tensor([[1., 1., 1.],\n",
      "        [1., 1., 1.]]) \n",
      "\n",
      "Zeros Tensor: \n",
      " tensor([[0., 0., 0.],\n",
      "        [0., 0., 0.]])\n"
     ]
    }
   ],
   "source": [
    "shape = (2,3,)\n",
    "rand_tensor = torch.rand(shape)\n",
    "ones_tensor = torch.ones(shape)\n",
    "zeros_tensor = torch.zeros(shape)\n",
    "\n",
    "print(f\"Random Tensor: \\n {rand_tensor} \\n\")\n",
    "print(f\"Ones Tensor: \\n {ones_tensor} \\n\")\n",
    "print(f\"Zeros Tensor: \\n {zeros_tensor}\")"
   ]
  },
  {
   "cell_type": "markdown",
   "metadata": {
    "pycharm": {
     "name": "#%% md\n"
    }
   },
   "source": [
    "--------------\n",
    "\n",
    "\n"
   ]
  },
  {
   "cell_type": "markdown",
   "metadata": {
    "pycharm": {
     "name": "#%% md\n"
    }
   },
   "source": [
    "**텐서의 속성(Attribute)**\n",
    "\n",
    "텐서의 속성은 텐서의 모양(shape), 자료형(datatype) 및 어느 장치에 저장되는지를 나타냅니다.\n",
    "\n"
   ]
  },
  {
   "cell_type": "code",
   "execution_count": 7,
   "metadata": {
    "pycharm": {
     "name": "#%%\n"
    }
   },
   "outputs": [
    {
     "name": "stdout",
     "output_type": "stream",
     "text": [
      "Shape of tensor: torch.Size([3, 4])\n",
      "Datatype of tensor: torch.float32\n",
      "Device tensor is stored on: cpu\n"
     ]
    }
   ],
   "source": [
    "tensor = torch.rand(3,4)\n",
    "\n",
    "print(f\"Shape of tensor: {tensor.shape}\")\n",
    "print(f\"Datatype of tensor: {tensor.dtype}\")\n",
    "print(f\"Device tensor is stored on: {tensor.device}\")"
   ]
  },
  {
   "cell_type": "markdown",
   "metadata": {
    "pycharm": {
     "name": "#%% md\n"
    }
   },
   "source": [
    "--------------\n",
    "\n",
    "\n"
   ]
  },
  {
   "cell_type": "markdown",
   "metadata": {
    "pycharm": {
     "name": "#%% md\n"
    }
   },
   "source": [
    "**텐서 연산(Operation)**\n",
    "\n",
    "전치(transposing), 인덱싱(indexing), 슬라이싱(slicing), 수학 계산, 선형 대수,\n",
    "임의 샘플링(random sampling) 등, 100가지 이상의 텐서 연산들을\n",
    "`여기 <https://pytorch.org/docs/stable/torch.html>` 에서 확인할 수 있습니다.\n",
    "\n",
    "각 연산들은 (일반적으로 CPU보다 빠른) GPU에서 실행할 수 있습니다. Colab을 사용한다면,\n",
    "Edit > Notebook Settings 에서 GPU를 할당할 수 있습니다.\n",
    "\n",
    "기본적으로 텐서는 CPU에 생성됩니다. ``.to`` 메소드를 사용하면 (GPU의 가용성(availability)을 확인한 뒤)\n",
    "GPU로 텐서를 명시적으로 이동할 수 있습니다. 장치들 간에 큰 텐서들을 복사하는 것은 시간과 메모리 측면에서 비용이\n",
    "많이든다는 것을 기억하세요!\n",
    "\n"
   ]
  },
  {
   "cell_type": "code",
   "execution_count": 8,
   "metadata": {
    "pycharm": {
     "name": "#%%\n"
    }
   },
   "outputs": [],
   "source": [
    "# GPU가 존재하면 텐서를 이동합니다\n",
    "if torch.cuda.is_available():\n",
    "    tensor = tensor.to(\"cuda\")"
   ]
  },
  {
   "cell_type": "markdown",
   "metadata": {
    "pycharm": {
     "name": "#%% md\n"
    }
   },
   "source": [
    "목록에서 몇몇 연산들을 시도해보세요.\n",
    "NumPy API에 익숙하다면 Tensor API를 사용하는 것은 식은 죽 먹기라는 것을 알게 되실 겁니다.\n",
    "\n",
    "\n"
   ]
  },
  {
   "cell_type": "markdown",
   "metadata": {
    "pycharm": {
     "name": "#%% md\n"
    }
   },
   "source": [
    "**NumPy식의 표준 인덱싱과 슬라이싱:**\n",
    "\n"
   ]
  },
  {
   "cell_type": "code",
   "execution_count": 9,
   "metadata": {
    "pycharm": {
     "name": "#%%\n"
    }
   },
   "outputs": [
    {
     "name": "stdout",
     "output_type": "stream",
     "text": [
      "First row: tensor([1., 1., 1., 1.])\n",
      "First column: tensor([1., 1., 1., 1.])\n",
      "Last column: tensor([1., 1., 1., 1.])\n",
      "tensor([[1., 0., 1., 1.],\n",
      "        [1., 0., 1., 1.],\n",
      "        [1., 0., 1., 1.],\n",
      "        [1., 0., 1., 1.]])\n"
     ]
    }
   ],
   "source": [
    "tensor = torch.ones(4, 4)\n",
    "print(f\"First row: {tensor[0]}\")\n",
    "print(f\"First column: {tensor[:, 0]}\")\n",
    "print(f\"Last column: {tensor[..., -1]}\")\n",
    "tensor[:,1] = 0\n",
    "print(tensor)"
   ]
  },
  {
   "cell_type": "markdown",
   "metadata": {
    "pycharm": {
     "name": "#%% md\n"
    }
   },
   "source": [
    "**텐서 합치기** ``torch.cat`` 을 사용하여 주어진 차원에 따라 일련의 텐서를 연결할 수 있습니다.\n",
    "``torch.cat`` 과 미묘하게 다른 또 다른 텐서 결합 연산인\n",
    "`torch.stack <https://pytorch.org/docs/stable/generated/torch.stack.html>`__ 도 참고해보세요.\n",
    "\n"
   ]
  },
  {
   "cell_type": "code",
   "execution_count": 10,
   "metadata": {
    "pycharm": {
     "name": "#%%\n"
    }
   },
   "outputs": [
    {
     "name": "stdout",
     "output_type": "stream",
     "text": [
      "tensor([[1., 0., 1., 1., 1., 0., 1., 1., 1., 0., 1., 1.],\n",
      "        [1., 0., 1., 1., 1., 0., 1., 1., 1., 0., 1., 1.],\n",
      "        [1., 0., 1., 1., 1., 0., 1., 1., 1., 0., 1., 1.],\n",
      "        [1., 0., 1., 1., 1., 0., 1., 1., 1., 0., 1., 1.]])\n"
     ]
    }
   ],
   "source": [
    "t1 = torch.cat([tensor, tensor, tensor], dim=1)\n",
    "print(t1)"
   ]
  },
  {
   "cell_type": "markdown",
   "metadata": {
    "pycharm": {
     "name": "#%% md\n"
    }
   },
   "source": [
    "**산술 연산(Arithmetic operations)**\n",
    "\n"
   ]
  },
  {
   "cell_type": "code",
   "execution_count": 11,
   "metadata": {
    "pycharm": {
     "name": "#%%\n"
    }
   },
   "outputs": [
    {
     "data": {
      "text/plain": [
       "tensor([[1., 0., 1., 1.],\n",
       "        [1., 0., 1., 1.],\n",
       "        [1., 0., 1., 1.],\n",
       "        [1., 0., 1., 1.]])"
      ]
     },
     "execution_count": 11,
     "metadata": {},
     "output_type": "execute_result"
    }
   ],
   "source": [
    "# 두 텐서 간의 행렬 곱(matrix multiplication)을 계산합니다. y1, y2, y3은 모두 같은 값을 갖습니다.\n",
    "y1 = tensor @ tensor.T\n",
    "y2 = tensor.matmul(tensor.T)\n",
    "\n",
    "y3 = torch.rand_like(tensor)\n",
    "torch.matmul(tensor, tensor.T, out=y3)\n",
    "\n",
    "\n",
    "# 요소별 곱(element-wise product)을 계산합니다. z1, z2, z3는 모두 같은 값을 갖습니다.\n",
    "z1 = tensor * tensor\n",
    "z2 = tensor.mul(tensor)\n",
    "\n",
    "z3 = torch.rand_like(tensor)\n",
    "torch.mul(tensor, tensor, out=z3)"
   ]
  },
  {
   "cell_type": "markdown",
   "metadata": {
    "pycharm": {
     "name": "#%% md\n"
    }
   },
   "source": [
    "**단일-요소(single-element) 텐서** 텐서의 모든 값을 하나로 집계(aggregate)하여 요소가 하나인 텐서의 경우,\n",
    "``item()`` 을 사용하여 Python 숫자 값으로 변환할 수 있습니다:\n",
    "\n"
   ]
  },
  {
   "cell_type": "code",
   "execution_count": 12,
   "metadata": {
    "pycharm": {
     "name": "#%%\n"
    }
   },
   "outputs": [
    {
     "name": "stdout",
     "output_type": "stream",
     "text": [
      "12.0 <class 'float'>\n"
     ]
    }
   ],
   "source": [
    "agg = tensor.sum()\n",
    "agg_item = agg.item()\n",
    "print(agg_item, type(agg_item))"
   ]
  },
  {
   "cell_type": "markdown",
   "metadata": {
    "pycharm": {
     "name": "#%% md\n"
    }
   },
   "source": [
    "**바꿔치기(in-place) 연산**\n",
    "연산 결과를 피연산자(operand)에 저장하는 연산을 바꿔치기 연산이라고 부르며, ``_`` 접미사를 갖습니다.\n",
    "예를 들어: ``x.copy_(y)`` 나 ``x.t_()`` 는 ``x`` 를 변경합니다.\n",
    "\n"
   ]
  },
  {
   "cell_type": "code",
   "execution_count": 13,
   "metadata": {
    "pycharm": {
     "name": "#%%\n"
    }
   },
   "outputs": [
    {
     "name": "stdout",
     "output_type": "stream",
     "text": [
      "tensor([[1., 0., 1., 1.],\n",
      "        [1., 0., 1., 1.],\n",
      "        [1., 0., 1., 1.],\n",
      "        [1., 0., 1., 1.]]) \n",
      "\n",
      "tensor([[6., 5., 6., 6.],\n",
      "        [6., 5., 6., 6.],\n",
      "        [6., 5., 6., 6.],\n",
      "        [6., 5., 6., 6.]])\n"
     ]
    }
   ],
   "source": [
    "print(f\"{tensor} \\n\")\n",
    "tensor.add_(5)\n",
    "print(tensor)"
   ]
  },
  {
   "cell_type": "markdown",
   "metadata": {
    "pycharm": {
     "name": "#%% md\n"
    }
   },
   "source": [
    "<div class=\"alert alert-info\"><h4>Note</h4><p>바꿔치기 연산은 메모리를 일부 절약하지만, 기록(history)이 즉시 삭제되어 도함수(derivative) 계산에 문제가 발생할 수 있습니다.\n",
    "     따라서, 사용을 권장하지 않습니다.</p></div>\n",
    "\n"
   ]
  },
  {
   "cell_type": "markdown",
   "metadata": {
    "pycharm": {
     "name": "#%% md\n"
    }
   },
   "source": [
    "--------------\n",
    "\n",
    "\n"
   ]
  },
  {
   "cell_type": "markdown",
   "metadata": {
    "pycharm": {
     "name": "#%% md\n"
    }
   },
   "source": [
    "\n",
    "**NumPy 변환(Bridge)**\n",
    "\n",
    "CPU 상의 텐서와 NumPy 배열은 메모리 공간을 공유하기 때문에, 하나를 변경하면 다른 하나도 변경됩니다.\n",
    "\n"
   ]
  },
  {
   "cell_type": "markdown",
   "metadata": {
    "pycharm": {
     "name": "#%% md\n"
    }
   },
   "source": [
    "텐서를 NumPy 배열로 변환하기\n",
    "\n"
   ]
  },
  {
   "cell_type": "code",
   "execution_count": 14,
   "metadata": {
    "pycharm": {
     "name": "#%%\n"
    }
   },
   "outputs": [
    {
     "name": "stdout",
     "output_type": "stream",
     "text": [
      "t: tensor([1., 1., 1., 1., 1.])\n",
      "n: [1. 1. 1. 1. 1.]\n"
     ]
    }
   ],
   "source": [
    "t = torch.ones(5)\n",
    "print(f\"t: {t}\")\n",
    "n = t.numpy()\n",
    "print(f\"n: {n}\")"
   ]
  },
  {
   "cell_type": "markdown",
   "metadata": {
    "pycharm": {
     "name": "#%% md\n"
    }
   },
   "source": [
    "텐서의 변경 사항이 NumPy 배열에 반영됩니다.\n",
    "\n"
   ]
  },
  {
   "cell_type": "code",
   "execution_count": 15,
   "metadata": {
    "pycharm": {
     "name": "#%%\n"
    }
   },
   "outputs": [
    {
     "name": "stdout",
     "output_type": "stream",
     "text": [
      "t: tensor([2., 2., 2., 2., 2.])\n",
      "n: [2. 2. 2. 2. 2.]\n"
     ]
    }
   ],
   "source": [
    "t.add_(1)\n",
    "print(f\"t: {t}\")\n",
    "print(f\"n: {n}\")"
   ]
  },
  {
   "cell_type": "markdown",
   "metadata": {
    "pycharm": {
     "name": "#%% md\n"
    }
   },
   "source": [
    "NumPy 배열을 텐서로 변환하기\n",
    "\n"
   ]
  },
  {
   "cell_type": "code",
   "execution_count": 16,
   "metadata": {
    "pycharm": {
     "name": "#%%\n"
    }
   },
   "outputs": [],
   "source": [
    "n = np.ones(5)\n",
    "t = torch.from_numpy(n)"
   ]
  },
  {
   "cell_type": "markdown",
   "metadata": {
    "pycharm": {
     "name": "#%% md\n"
    }
   },
   "source": [
    "NumPy 배열의 변경 사항이 텐서에 반영됩니다.\n",
    "\n"
   ]
  },
  {
   "cell_type": "code",
   "execution_count": 17,
   "metadata": {
    "pycharm": {
     "name": "#%%\n"
    }
   },
   "outputs": [
    {
     "name": "stdout",
     "output_type": "stream",
     "text": [
      "t: tensor([2., 2., 2., 2., 2.], dtype=torch.float64)\n",
      "n: [2. 2. 2. 2. 2.]\n"
     ]
    }
   ],
   "source": [
    "np.add(n, 1, out=n)\n",
    "print(f\"t: {t}\")\n",
    "print(f\"n: {n}\")"
   ]
  },
  {
   "cell_type": "markdown",
   "metadata": {
    "pycharm": {
     "name": "#%% md\n"
    }
   },
   "source": [
    "--------------\n",
    "\n",
    "\n"
   ]
  },
  {
   "cell_type": "markdown",
   "metadata": {
    "pycharm": {
     "name": "#%% md\n"
    }
   },
   "source": [
    "# Practice"
   ]
  },
  {
   "cell_type": "markdown",
   "metadata": {
    "pycharm": {
     "name": "#%% md\n"
    }
   },
   "source": [
    "#### Q1. 모든 값이 1인 (32, 16) 크기의 행렬 mtx_1을 생성하시오."
   ]
  },
  {
   "cell_type": "code",
   "execution_count": null,
   "metadata": {
    "pycharm": {
     "name": "#%%\n"
    }
   },
   "outputs": [],
   "source": [
    "mtx_1 = torch.ones(size=(??, ??))\n",
    "print(mtx_1)"
   ]
  },
  {
   "cell_type": "markdown",
   "metadata": {
    "pycharm": {
     "name": "#%% md\n"
    }
   },
   "source": [
    "#### Q2. 모든 값이 1인 (16, 8) 크기의 행렬 mtx_2을 생성하시오."
   ]
  },
  {
   "cell_type": "code",
   "execution_count": null,
   "metadata": {
    "pycharm": {
     "name": "#%%\n"
    }
   },
   "outputs": [],
   "source": [
    "mtx_2 = torch.ones(size=(??, ??))\n",
    "print(mtx_2)"
   ]
  },
  {
   "cell_type": "markdown",
   "metadata": {
    "pycharm": {
     "name": "#%% md\n"
    }
   },
   "source": [
    "#### Q3. mtx_1 과 mtx_2 의 행렬곱을 수행하시오. (output : matmul_mtx)"
   ]
  },
  {
   "cell_type": "code",
   "execution_count": null,
   "metadata": {
    "pycharm": {
     "name": "#%%\n"
    }
   },
   "outputs": [],
   "source": [
    "matmul_mtx = torch.??(mtx_1, mtx_2)\n",
    "print(matmul_mtx)"
   ]
  },
  {
   "cell_type": "markdown",
   "metadata": {
    "pycharm": {
     "name": "#%% md\n"
    }
   },
   "source": [
    "#### Q4. matmul_mtx 의 shape 을 확인하시오."
   ]
  },
  {
   "cell_type": "code",
   "execution_count": null,
   "metadata": {
    "pycharm": {
     "name": "#%%\n"
    }
   },
   "outputs": [],
   "source": [
    "print(matmul_mtx.??)"
   ]
  },
  {
   "cell_type": "code",
   "execution_count": 59,
   "metadata": {
    "pycharm": {
     "name": "#%%\n"
    }
   },
   "outputs": [
    {
     "name": "stdout",
     "output_type": "stream",
     "text": [
      "tensor([[-7.0382e-01,  2.5474e+00,  1.2463e+00, -5.2671e-02,  4.0057e-01,\n",
      "         -4.2897e-01,  7.7898e-01,  5.4074e-01],\n",
      "        [ 6.2193e-01,  2.6354e+00, -1.5045e+00, -4.4965e-01,  4.0604e-01,\n",
      "         -7.6350e-01,  3.0821e-01, -2.6210e-01],\n",
      "        [-2.1576e-02, -8.8462e-02, -1.9312e+00, -8.0609e-01, -1.1919e+00,\n",
      "         -1.0503e+00, -9.4545e-01,  1.3906e+00],\n",
      "        [ 3.9474e-01,  6.8347e-01,  1.6193e+00,  5.7722e-03,  1.7203e+00,\n",
      "         -4.7032e-01,  2.9673e-01, -7.8430e-01],\n",
      "        [-1.0139e+00, -4.7480e-01,  3.0928e-01, -5.3794e-01, -9.6926e-02,\n",
      "         -7.4104e-01,  6.5422e-02, -1.2768e+00],\n",
      "        [ 1.0888e-01,  3.4596e-01, -8.8188e-01,  1.6153e-01, -1.3213e+00,\n",
      "          6.4164e-01, -8.4240e-01, -4.5174e-02],\n",
      "        [-2.7628e-01, -6.1614e-01,  1.2782e+00, -1.8571e+00,  1.0806e+00,\n",
      "          7.2861e-01,  1.8707e+00,  1.4933e-01],\n",
      "        [ 1.6187e+00,  1.3696e+00,  2.1633e+00,  5.5199e-01,  2.4198e-01,\n",
      "          6.0378e-01,  8.5180e-01,  1.7929e+00],\n",
      "        [-4.1931e-01,  1.8073e+00, -4.5165e-01, -1.2208e+00, -8.0395e-01,\n",
      "         -1.3025e-01,  6.9844e-02, -4.6019e-01],\n",
      "        [ 9.6637e-01, -1.4645e+00,  3.8989e-01,  8.1595e-01,  6.5485e-01,\n",
      "          8.7741e-01, -1.5628e+00, -1.3330e+00],\n",
      "        [ 1.3643e-02, -5.1434e-01, -4.5641e-01,  1.4203e+00, -2.8021e-01,\n",
      "          4.7075e-01,  1.0810e+00,  3.7645e-01],\n",
      "        [ 2.2495e+00,  4.7276e-02,  3.4125e-01, -1.1226e+00, -2.2514e+00,\n",
      "          1.0414e+00, -1.9878e-04, -1.4703e+00],\n",
      "        [-1.8451e+00,  1.6984e+00, -1.1946e+00,  1.5601e+00,  8.5987e-01,\n",
      "          3.7203e-01,  6.4785e-01,  7.2005e-02],\n",
      "        [ 1.1233e+00, -9.5331e-01,  8.7805e-01, -4.3615e-01,  8.4057e-01,\n",
      "          2.4639e-01, -1.0675e+00,  6.9092e-01],\n",
      "        [ 2.4766e-01, -1.3036e+00,  3.3896e-01,  1.7577e+00,  2.9048e-01,\n",
      "         -5.5885e-01, -8.0394e-01,  9.1271e-01],\n",
      "        [ 6.4334e-01, -2.4134e-01,  3.7178e-01,  3.9383e-01,  9.2227e-01,\n",
      "          1.7728e+00,  8.3774e-01,  1.0902e+00],\n",
      "        [ 6.3363e-01,  1.5471e+00, -2.2367e-01, -3.1114e-01,  6.6232e-01,\n",
      "         -2.8529e-01,  3.8210e-01, -9.8601e-01],\n",
      "        [ 2.7303e+00, -3.6682e-01, -1.3281e+00, -2.1009e+00, -1.8212e-01,\n",
      "          1.6875e+00, -1.1707e-01, -1.7145e+00],\n",
      "        [ 7.5553e-01, -1.1088e-01, -1.1915e+00, -4.1810e-01,  1.8306e-01,\n",
      "         -1.6301e-01, -8.9787e-01,  1.5009e+00],\n",
      "        [-4.6687e-01, -5.3369e-01, -1.4208e+00, -1.1866e+00,  1.1359e+00,\n",
      "          6.8319e-01, -1.0079e+00,  6.0944e-01],\n",
      "        [ 2.2896e+00,  4.8318e-01, -2.1635e+00,  1.3503e+00, -2.5689e-01,\n",
      "          1.2249e+00,  8.4145e-01,  1.6320e+00],\n",
      "        [ 2.4717e+00,  1.6685e+00,  1.0147e+00, -1.2121e+00,  3.6297e-02,\n",
      "         -2.4466e+00,  1.6547e+00,  3.5206e-02],\n",
      "        [ 5.6991e-01, -7.1803e-01,  1.0200e-01, -1.1850e+00, -1.9216e-01,\n",
      "         -1.2469e+00, -2.8622e-01, -1.0762e+00],\n",
      "        [-5.2918e-01,  1.3248e+00,  5.7645e-02, -7.2825e-01, -8.2445e-01,\n",
      "         -5.1445e-01, -5.5007e-01,  2.5312e-01],\n",
      "        [ 1.3625e+00, -9.4457e-01,  9.9480e-01, -8.8507e-01,  2.4647e-01,\n",
      "          6.0480e-01,  2.2212e-01, -7.7689e-01],\n",
      "        [-2.2050e-01, -2.0858e-01,  8.3040e-01,  1.4003e+00,  9.1999e-01,\n",
      "         -8.1061e-01, -4.9029e-01,  6.6073e-01],\n",
      "        [-8.4864e-01,  4.7260e-02, -1.1793e-01,  1.6063e+00,  6.4701e-01,\n",
      "          2.2781e-01, -3.8399e-01,  7.3442e-01],\n",
      "        [ 3.8408e-01,  1.4359e+00, -1.8893e+00, -1.5184e+00, -1.6729e+00,\n",
      "          7.9433e-01, -1.4072e-01,  3.5118e-01],\n",
      "        [-8.4100e-01,  4.5953e-01, -1.4532e+00, -2.2495e-01, -1.2908e+00,\n",
      "          9.3550e-02,  4.3102e-02,  3.8366e-01],\n",
      "        [-6.2679e-01,  4.6065e-01, -5.7530e-01,  4.2428e-01, -1.5631e+00,\n",
      "          4.0479e-01,  5.6247e-01, -1.0540e+00],\n",
      "        [ 9.7451e-01, -7.2168e-01,  8.4978e-01,  6.4014e-01,  7.3529e-01,\n",
      "         -1.7049e+00, -2.4703e+00,  5.0885e-01],\n",
      "        [-1.7285e+00,  1.0607e-01, -4.6509e-01,  6.5985e-01,  2.8558e-01,\n",
      "         -2.4007e+00, -3.1231e-01, -5.8820e-01]])\n"
     ]
    }
   ],
   "source": [
    "# matmul_mtx 와 동일한 shape 의 random matrix 생성 (output : gaussian_mtx)\n",
    "gaussian_mtx = torch.randn(matmul_mtx.shape)\n",
    "print(gaussian_mtx)"
   ]
  },
  {
   "cell_type": "code",
   "execution_count": 60,
   "metadata": {
    "pycharm": {
     "name": "#%%\n"
    }
   },
   "outputs": [
    {
     "name": "stdout",
     "output_type": "stream",
     "text": [
      "tensor([[16.6285, 16.2179, 16.0773, 16.3773, 14.9458, 15.5663, 14.4950, 17.9996],\n",
      "        [16.5090, 16.4590, 15.0642, 17.3271, 17.5866, 17.1456, 16.5718, 16.1092],\n",
      "        [14.9058, 16.8461, 17.6556, 15.9130, 15.0966, 15.3434, 16.1445, 15.8529],\n",
      "        [15.7383, 16.7165, 14.3049, 15.4195, 15.2214, 17.1195, 16.2669, 16.4199],\n",
      "        [16.1487, 14.1199, 14.4108, 15.2979, 16.2906, 15.4998, 15.3860, 17.3450],\n",
      "        [15.2825, 14.9088, 17.0454, 16.6508, 17.2701, 15.6978, 17.9011, 14.7983],\n",
      "        [15.1025, 15.6425, 14.7540, 16.6029, 17.4210, 17.6045, 15.8402, 16.1634],\n",
      "        [14.8950, 15.9988, 16.2832, 15.5265, 15.1750, 16.8770, 16.4692, 16.4911],\n",
      "        [16.9773, 15.4633, 14.2659, 15.5330, 16.2453, 16.2045, 15.5951, 16.0120],\n",
      "        [15.9120, 15.6839, 16.2399, 14.3839, 15.4428, 16.6298, 16.3478, 16.9176],\n",
      "        [16.2110, 15.8901, 17.1357, 15.9681, 16.9194, 15.2816, 16.3997, 14.6482],\n",
      "        [14.9637, 15.3813, 15.6100, 15.9564, 15.9547, 17.1286, 19.5321, 17.0413],\n",
      "        [16.6763, 17.0260, 14.2179, 15.3826, 16.1565, 15.5808, 15.3964, 17.5391],\n",
      "        [16.5365, 15.9848, 17.3049, 17.0395, 16.5169, 16.0860, 14.7177, 16.3726],\n",
      "        [16.5336, 15.3839, 16.3056, 16.6544, 17.6636, 18.4224, 16.2834, 15.3182],\n",
      "        [16.5404, 14.8865, 15.6604, 17.1495, 15.7986, 15.0198, 16.6241, 15.4724],\n",
      "        [14.4685, 16.3542, 16.2709, 15.4712, 16.6858, 14.2447, 14.8630, 14.9549],\n",
      "        [16.8866, 17.0439, 16.1072, 17.0202, 15.4634, 14.5604, 15.9992, 16.3221],\n",
      "        [17.1179, 15.2676, 15.5266, 16.5480, 15.4234, 15.8355, 14.6131, 17.2795],\n",
      "        [16.6867, 15.8493, 16.6871, 14.9107, 16.2927, 15.6020, 14.8302, 16.3280],\n",
      "        [17.6657, 14.4260, 16.0006, 14.7314, 15.3247, 16.6865, 17.1772, 17.7136],\n",
      "        [14.8883, 14.5531, 17.2956, 15.9672, 15.1811, 16.6162, 17.4108, 13.1434],\n",
      "        [12.9965, 15.2397, 16.1289, 14.3535, 17.0105, 15.3638, 16.0570, 16.1627],\n",
      "        [17.9429, 17.7293, 16.5465, 15.0440, 15.6661, 15.7407, 14.4624, 16.7936],\n",
      "        [15.9964, 14.7283, 14.9360, 16.3576, 15.6192, 14.9261, 15.4189, 18.5792],\n",
      "        [17.0217, 16.8579, 12.6288, 16.0264, 16.9561, 15.0619, 14.5271, 15.5465],\n",
      "        [15.1293, 15.2077, 14.7976, 16.4123, 16.2441, 14.4102, 18.5567, 16.5609],\n",
      "        [16.0590, 16.6729, 15.6176, 17.0029, 14.5902, 13.7044, 14.4824, 15.2890],\n",
      "        [16.3317, 16.8091, 15.5887, 16.3131, 16.4327, 16.7695, 15.3154, 17.1047],\n",
      "        [16.0026, 14.5175, 15.1086, 15.9500, 17.2697, 15.9718, 16.3671, 15.1767],\n",
      "        [15.8015, 15.8303, 15.6021, 15.0855, 14.7379, 18.3310, 16.1350, 14.8061],\n",
      "        [16.7286, 16.0526, 16.2050, 16.9459, 14.6019, 15.6192, 15.2327, 15.2474]])\n"
     ]
    }
   ],
   "source": [
    "# matmul_mtx 와 gaussian_mtx 을 더함 (output : mtx_3)\n",
    "mtx_3 = torch.add(matmul_mtx, torch.randn(matmul_mtx.shape))\n",
    "print(mtx_3)"
   ]
  },
  {
   "cell_type": "code",
   "execution_count": 61,
   "metadata": {
    "pycharm": {
     "name": "#%%\n"
    }
   },
   "outputs": [
    {
     "name": "stdout",
     "output_type": "stream",
     "text": [
      "tensor(15.9630)\n"
     ]
    }
   ],
   "source": [
    "# mtx_3 내 모든 value 들의 평균 구하기\n",
    "print(torch.mean(mtx_3))"
   ]
  },
  {
   "cell_type": "code",
   "execution_count": 45,
   "metadata": {
    "pycharm": {
     "name": "#%%\n"
    }
   },
   "outputs": [
    {
     "data": {
      "text/plain": [
       "tensor([16.0597, 15.9245, 15.8284, 16.0833, 16.1269, 16.0282, 15.9445, 15.9621])"
      ]
     },
     "execution_count": 45,
     "metadata": {},
     "output_type": "execute_result"
    }
   ],
   "source": [
    "# mtx_3 내 column 기준 평균 구하기 (dim=0)\n",
    "torch.mean(mtx_3, dim=0)"
   ]
  },
  {
   "cell_type": "code",
   "execution_count": 62,
   "metadata": {
    "pycharm": {
     "name": "#%%\n"
    }
   },
   "outputs": [
    {
     "data": {
      "text/plain": [
       "tensor([16.0385, 16.5966, 15.9698, 15.9009, 15.5623, 16.1944, 16.1414, 15.9645,\n",
       "        15.7871, 15.9447, 16.0567, 16.4460, 15.9970, 16.3199, 16.5706, 15.8939,\n",
       "        15.4142, 16.1754, 15.9514, 15.8984, 16.2157, 15.6320, 15.4141, 16.2407,\n",
       "        15.8202, 15.5783, 15.9149, 15.4273, 16.3331, 15.7955, 15.7912, 15.8292])"
      ]
     },
     "execution_count": 62,
     "metadata": {},
     "output_type": "execute_result"
    }
   ],
   "source": [
    "# mtx_3 내 row 기준 평균 구하기 (dim=1)\n",
    "torch.mean(mtx_3, dim=1)"
   ]
  },
  {
   "cell_type": "code",
   "execution_count": null,
   "metadata": {
    "pycharm": {
     "name": "#%%\n"
    }
   },
   "outputs": [],
   "source": []
  }
 ],
 "metadata": {
  "kernelspec": {
   "display_name": "Python 3 (ipykernel)",
   "language": "python",
   "name": "python3"
  },
  "language_info": {
   "codemirror_mode": {
    "name": "ipython",
    "version": 3
   },
   "file_extension": ".py",
   "mimetype": "text/x-python",
   "name": "python",
   "nbconvert_exporter": "python",
   "pygments_lexer": "ipython3",
   "version": "3.9.6"
  }
 },
 "nbformat": 4,
 "nbformat_minor": 1
}